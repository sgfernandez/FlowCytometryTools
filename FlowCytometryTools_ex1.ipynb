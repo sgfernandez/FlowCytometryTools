{
 "cells": [
  {
   "cell_type": "code",
   "execution_count": 1,
   "metadata": {},
   "outputs": [],
   "source": [
    "import pandas as pd\n",
    "import numpy as np\n",
    "from numpy import median\n",
    "import matplotlib.pyplot as plt\n",
    "from FlowCytometryTools import FCMeasurement, ThresholdGate\n",
    "import seaborn as sns\n",
    "from itertools import cycle"
   ]
  },
  {
   "cell_type": "code",
   "execution_count": 2,
   "metadata": {},
   "outputs": [],
   "source": [
    "def gfprfp_ratio(fcs_files):\n",
    "    ratio = fcs_files['FITC-A']/fcs_files['PE-Texas Red-A']\n",
    "    ratio = ratio.apply(np.log2)\n",
    "    return ratio"
   ]
  },
  {
   "cell_type": "code",
   "execution_count": 3,
   "metadata": {},
   "outputs": [],
   "source": [
    "path2_20210422 = '/Users/sfernandez/Projects/IngoliaLab/Projects/Start Site Selection/Flow/2021/20210422/'"
   ]
  },
  {
   "cell_type": "code",
   "execution_count": 4,
   "metadata": {},
   "outputs": [],
   "source": [
    "#import files \n",
    "pM0T_52_20210422_1 = FCMeasurement(ID='pM0T_52_1',datafile=path2_20210422+'K562 dCas9_NG2_1_uORF_rep_poly_d6_M0T_poly_+52_1_P2.fcs')"
   ]
  },
  {
   "cell_type": "code",
   "execution_count": 5,
   "metadata": {},
   "outputs": [],
   "source": [
    "#get gfp/rfp ratio\n",
    "pM0T_52_20210422_ratio = gfprfp_ratio(pM0T_52_20210422_1)"
   ]
  },
  {
   "cell_type": "code",
   "execution_count": 9,
   "metadata": {},
   "outputs": [
    {
     "data": {
      "image/png": "[encoded data removed]",
      "text/plain": [
       "<Figure size 216x216 with 1 Axes>"
      ]
     },
     "metadata": {},
     "output_type": "display_data"
    }
   ],
   "source": [
    "fig, ax = plt.subplots(figsize = (3,3))\n",
    "sns.set_style('ticks')\n",
    "pal = sns.cubehelix_palette(light=.8, n_colors=7)\n",
    "\n",
    "sns.kdeplot(pM0T_52_20210422_ratio, shade=False, linewidth=2.0, color='gray', label='Neg')\n",
    "\n",
    "sns.despine()\n",
    "# plt.xlim(0.5,1.8)\n",
    "plt.locator_params(axis = 'x', nbins=4)\n",
    "plt.legend(frameon=False, loc = 'upper right', fontsize=12)\n",
    "plt.xlabel('log2(GFP/RFP)',fontsize=16)\n",
    "plt.tight_layout()"
   ]
  }
 ],
 "metadata": {
  "kernelspec": {
   "display_name": "Python 2",
   "language": "python",
   "name": "python2"
  },
  "language_info": {
   "codemirror_mode": {
    "name": "ipython",
    "version": 2
   },
   "file_extension": ".py",
   "mimetype": "text/x-python",
   "name": "python",
   "nbconvert_exporter": "python",
   "pygments_lexer": "ipython2",
   "version": "2.7.16"
  }
 },
 "nbformat": 4,
 "nbformat_minor": 2
}
